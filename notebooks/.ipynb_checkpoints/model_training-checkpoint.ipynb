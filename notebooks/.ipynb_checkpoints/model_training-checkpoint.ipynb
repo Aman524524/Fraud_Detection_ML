{
 "cells": [
  {
   "cell_type": "code",
   "execution_count": 9,
   "id": "0cee1df8-1f24-4b15-94d6-25b8110e5f85",
   "metadata": {},
   "outputs": [
    {
     "name": "stdout",
     "output_type": "stream",
     "text": [
      "Initial shape: (2512, 18)\n",
      "  TransactionID AccountID  TransactionAmount      TransactionDate  \\\n",
      "0      TX000001   AC00128              14.09  2023-04-11 16:29:14   \n",
      "1      TX000002   AC00455             376.24  2023-06-27 16:44:19   \n",
      "2      TX000003   AC00019             126.29  2023-07-10 18:16:08   \n",
      "3      TX000004   AC00070             184.50  2023-05-05 16:32:11   \n",
      "4      TX000005   AC00411              13.45  2023-10-16 17:51:24   \n",
      "\n",
      "  TransactionType   Location DeviceID      IP Address MerchantID Channel  \\\n",
      "0           Debit  San Diego  D000380  162.198.218.92       M015     ATM   \n",
      "1           Debit    Houston  D000051     13.149.61.4       M052     ATM   \n",
      "2           Debit       Mesa  D000235  215.97.143.157       M009  Online   \n",
      "3           Debit    Raleigh  D000187  200.13.225.150       M002  Online   \n",
      "4          Credit    Atlanta  D000308    65.164.3.100       M091  Online   \n",
      "\n",
      "   CustomerAge CustomerOccupation  TransactionDuration  LoginAttempts  \\\n",
      "0           70             Doctor                   81              1   \n",
      "1           68             Doctor                  141              1   \n",
      "2           19            Student                   56              1   \n",
      "3           26            Student                   25              1   \n",
      "4           26            Student                  198              1   \n",
      "\n",
      "   AccountBalance PreviousTransactionDate  anomaly_score  is_fraud  \n",
      "0         5112.21     2024-11-04 08:08:08              1         0  \n",
      "1        13758.91     2024-11-04 08:09:35              1         0  \n",
      "2         1122.35     2024-11-04 08:07:04              1         0  \n",
      "3         8569.06     2024-11-04 08:09:06              1         0  \n",
      "4         7429.40     2024-11-04 08:06:39              1         0  \n",
      "\n",
      "Anomaly Counts:\n",
      " anomaly\n",
      "0    2486\n",
      "1      26\n",
      "Name: count, dtype: int64\n"
     ]
    },
    {
     "data": {
      "image/png": "[encoded data removed]",
      "text/plain": [
       "<Figure size 640x480 with 1 Axes>"
      ]
     },
     "metadata": {},
     "output_type": "display_data"
    },
    {
     "name": "stdout",
     "output_type": "stream",
     "text": [
      "Saved labeled data to transactions_with_anomaly_labels.csv\n"
     ]
    }
   ],
   "source": [
    "# Step 1: Imports\n",
    "import pandas as pd\n",
    "import numpy as np\n",
    "from sklearn.ensemble import IsolationForest\n",
    "from sklearn.preprocessing import LabelEncoder, StandardScaler\n",
    "import matplotlib.pyplot as plt\n",
    "import seaborn as sns\n",
    "\n",
    "import sys\n",
    "import os\n",
    "sys.path.append('/home/firoj/Fraud_Detection_ML/src')  # Add src folder to import custom modules\n",
    "\n",
    "from data_preprocessing import preprocess_pipeline\n",
    "from feature_engineering import create_transaction_features, drop_unnecessary_columns\n",
    "\n",
    "# Step 2: Load Processed Data\n",
    "df = pd.read_csv('/home/firoj/Fraud_Detection_ML/data/processed/transactions_processed.csv')\n",
    "print(\"Initial shape:\", df.shape)\n",
    "print(df.head())\n",
    "# Step 3: Feature Engineering\n",
    "df = create_transaction_features(df)\n",
    "df = drop_unnecessary_columns(df)\n",
    "\n",
    "# Fill missing values\n",
    "df.fillna(0, inplace=True)\n",
    "# Step 4: Encode Categorical Variables\n",
    "label_encoders = {}\n",
    "for col in df.select_dtypes(include='object').columns:\n",
    "    le = LabelEncoder()\n",
    "    df[col] = le.fit_transform(df[col])\n",
    "    label_encoders[col] = le\n",
    "\n",
    "# Step 5: Feature Scaling\n",
    "scaler = StandardScaler()\n",
    "scaled_data = scaler.fit_transform(df)\n",
    "\n",
    "# Step 6: Train Isolation Forest Model\n",
    "model = IsolationForest(n_estimators=100, contamination=0.01, random_state=42)\n",
    "model.fit(scaled_data)\n",
    "\n",
    "# Predict anomalies\n",
    "df['anomaly'] = model.predict(scaled_data)\n",
    "df['anomaly'] = df['anomaly'].map({1: 0, -1: 1})  # 1 = fraud, 0 = normal\n",
    "\n",
    "# Step 7: Analyze Results\n",
    "print(\"\\nAnomaly Counts:\\n\", df['anomaly'].value_counts())\n",
    "\n",
    "sns.countplot(x='anomaly', data=df)\n",
    "plt.title(\"Detected Fraud vs Normal Transactions\")\n",
    "plt.xlabel(\"Anomaly (1 = Fraud, 0 = Normal)\")\n",
    "plt.ylabel(\"Count\")\n",
    "plt.show()\n",
    "\n",
    "# Step 8: Save Results\n",
    "df.to_csv('/home/firoj/Fraud_Detection_ML/data/processed/transactions_with_anomaly_labels.csv', index=False)\n",
    "print(\"Saved labeled data to transactions_with_anomaly_labels.csv\")"
   ]
  },
  {
   "cell_type": "code",
   "execution_count": null,
   "id": "1234c670-165a-4733-acd4-2a68811e1d64",
   "metadata": {},
   "outputs": [],
   "source": []
  }
 ],
 "metadata": {
  "kernelspec": {
   "display_name": "Python 3 (ipykernel)",
   "language": "python",
   "name": "python3"
  },
  "language_info": {
   "codemirror_mode": {
    "name": "ipython",
    "version": 3
   },
   "file_extension": ".py",
   "mimetype": "text/x-python",
   "name": "python",
   "nbconvert_exporter": "python",
   "pygments_lexer": "ipython3",
   "version": "3.12.4"
  }
 },
 "nbformat": 4,
 "nbformat_minor": 5
}
